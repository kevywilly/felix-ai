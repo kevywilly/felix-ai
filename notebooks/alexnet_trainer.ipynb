{
 "cells": [
  {
   "cell_type": "code",
   "execution_count": 6,
   "metadata": {
    "collapsed": true,
    "ExecuteTime": {
     "end_time": "2024-02-25T07:44:10.121244Z",
     "start_time": "2024-02-25T07:44:10.090519Z"
    }
   },
   "outputs": [],
   "source": [
    "import torch\n",
    "import torch.nn as nn\n",
    "import torchvision\n",
    "import torchvision.transforms as transforms\n",
    "import numpy as np\n",
    "import matplotlib.pyplot as plt\n",
    "from datetime import datetime\n",
    "from src.training.datasets import CustomImageFolder\n",
    "import os\n",
    "from settings import settings\n",
    "import torchvision.models as models"
   ]
  },
  {
   "cell_type": "code",
   "execution_count": 14,
   "outputs": [
    {
     "data": {
      "text/plain": "AlexNet(\n  (features): Sequential(\n    (0): Conv2d(3, 64, kernel_size=(11, 11), stride=(4, 4), padding=(2, 2))\n    (1): ReLU(inplace=True)\n    (2): MaxPool2d(kernel_size=3, stride=2, padding=0, dilation=1, ceil_mode=False)\n    (3): Conv2d(64, 192, kernel_size=(5, 5), stride=(1, 1), padding=(2, 2))\n    (4): ReLU(inplace=True)\n    (5): MaxPool2d(kernel_size=3, stride=2, padding=0, dilation=1, ceil_mode=False)\n    (6): Conv2d(192, 384, kernel_size=(3, 3), stride=(1, 1), padding=(1, 1))\n    (7): ReLU(inplace=True)\n    (8): Conv2d(384, 256, kernel_size=(3, 3), stride=(1, 1), padding=(1, 1))\n    (9): ReLU(inplace=True)\n    (10): Conv2d(256, 256, kernel_size=(3, 3), stride=(1, 1), padding=(1, 1))\n    (11): ReLU(inplace=True)\n    (12): MaxPool2d(kernel_size=3, stride=2, padding=0, dilation=1, ceil_mode=False)\n  )\n  (avgpool): AdaptiveAvgPool2d(output_size=(6, 6))\n  (classifier): Sequential(\n    (0): Dropout(p=0.5, inplace=False)\n    (1): Linear(in_features=9216, out_features=4096, bias=True)\n    (2): ReLU(inplace=True)\n    (3): Dropout(p=0.5, inplace=False)\n    (4): Linear(in_features=4096, out_features=4096, bias=True)\n    (5): ReLU(inplace=True)\n    (6): Linear(in_features=4096, out_features=3, bias=True)\n  )\n)"
     },
     "execution_count": 14,
     "metadata": {},
     "output_type": "execute_result"
    }
   ],
   "source": [
    "model = models.alexnet(pretrained=True)\n",
    "model.classifier[6] = torch.nn.Linear(model.classifier[6].in_features, 3)\n",
    "model.classifier[6].in_features\n",
    "model.train()"
   ],
   "metadata": {
    "collapsed": false,
    "ExecuteTime": {
     "end_time": "2024-02-25T07:46:58.292552Z",
     "start_time": "2024-02-25T07:46:57.889197Z"
    }
   }
  },
  {
   "cell_type": "code",
   "execution_count": 8,
   "outputs": [],
   "source": [
    "images_path=os.path.join(settings.TRAINING.data_root, \"training/ternary\")\n",
    "random_flip=True\n",
    "target_flips={1: 2, 2: 1}"
   ],
   "metadata": {
    "collapsed": false,
    "ExecuteTime": {
     "end_time": "2024-02-25T07:44:21.478419Z",
     "start_time": "2024-02-25T07:44:21.472510Z"
    }
   }
  },
  {
   "cell_type": "code",
   "execution_count": 9,
   "outputs": [],
   "source": [
    "dataset = CustomImageFolder(\n",
    "            root=images_path,\n",
    "            target_flips=target_flips,\n",
    "            transform=transforms.Compose([\n",
    "                transforms.ColorJitter(0.1, 0.1, 0.1, 0.1),\n",
    "                transforms.Resize((224, 224)),\n",
    "                transforms.ToTensor(),\n",
    "                transforms.Normalize([0.485, 0.456, 0.406], [0.229, 0.224, 0.225])\n",
    "            ],\n",
    "\n",
    "            )\n",
    "        )"
   ],
   "metadata": {
    "collapsed": false,
    "ExecuteTime": {
     "end_time": "2024-02-25T07:44:22.757900Z",
     "start_time": "2024-02-25T07:44:22.752182Z"
    }
   }
  },
  {
   "cell_type": "code",
   "execution_count": 10,
   "outputs": [],
   "source": [
    "batch_size = 8\n",
    "test_pct = 20\n",
    "test_size = int(len(dataset)*test_pct/100.0)\n",
    "\n",
    "train_dataset, test_dataset = torch.utils.data.random_split(dataset, [len(dataset) - test_size, test_size])\n",
    "\n",
    "train_loader = torch.utils.data.DataLoader(\n",
    "    train_dataset,\n",
    "    batch_size=8,\n",
    "    shuffle=True,\n",
    "    num_workers=0,\n",
    ")\n",
    "\n",
    "test_loader = torch.utils.data.DataLoader(\n",
    "    test_dataset,\n",
    "    batch_size=128,\n",
    "    shuffle=True,\n",
    "    num_workers=0,\n",
    ")"
   ],
   "metadata": {
    "collapsed": false,
    "ExecuteTime": {
     "end_time": "2024-02-25T07:44:24.128761Z",
     "start_time": "2024-02-25T07:44:24.124521Z"
    }
   }
  },
  {
   "cell_type": "code",
   "execution_count": 11,
   "outputs": [],
   "source": [
    "criterion = nn.CrossEntropyLoss()\n",
    "optimizer = torch.optim.Adam(model.parameters())"
   ],
   "metadata": {
    "collapsed": false,
    "ExecuteTime": {
     "end_time": "2024-02-25T07:44:25.306592Z",
     "start_time": "2024-02-25T07:44:25.301965Z"
    }
   }
  },
  {
   "cell_type": "code",
   "execution_count": 13,
   "outputs": [
    {
     "name": "stdout",
     "output_type": "stream",
     "text": [
      "torch.Size([8, 3, 224, 224])\n",
      "torch.Size([8, 3, 224, 224])\n",
      "torch.Size([8, 3])\n",
      "torch.Size([8, 3, 224, 224])\n",
      "torch.Size([8, 3, 224, 224])\n",
      "torch.Size([8, 3])\n",
      "torch.Size([8, 3, 224, 224])\n",
      "torch.Size([8, 3, 224, 224])\n",
      "torch.Size([8, 3])\n",
      "torch.Size([8, 3, 224, 224])\n",
      "torch.Size([8, 3, 224, 224])\n",
      "torch.Size([8, 3])\n",
      "torch.Size([8, 3, 224, 224])\n",
      "torch.Size([8, 3, 224, 224])\n",
      "torch.Size([8, 3])\n",
      "torch.Size([8, 3, 224, 224])\n",
      "torch.Size([8, 3, 224, 224])\n",
      "torch.Size([8, 3])\n",
      "torch.Size([8, 3, 224, 224])\n",
      "torch.Size([8, 3, 224, 224])\n",
      "torch.Size([8, 3])\n",
      "torch.Size([8, 3, 224, 224])\n",
      "torch.Size([8, 3, 224, 224])\n",
      "torch.Size([8, 3])\n",
      "torch.Size([8, 3, 224, 224])\n",
      "torch.Size([8, 3, 224, 224])\n",
      "torch.Size([8, 3])\n",
      "torch.Size([8, 3, 224, 224])\n",
      "torch.Size([8, 3, 224, 224])\n",
      "torch.Size([8, 3])\n",
      "torch.Size([8, 3, 224, 224])\n",
      "torch.Size([8, 3, 224, 224])\n",
      "torch.Size([8, 3])\n",
      "torch.Size([8, 3, 224, 224])\n",
      "torch.Size([8, 3, 224, 224])\n",
      "torch.Size([8, 3])\n",
      "torch.Size([8, 3, 224, 224])\n",
      "torch.Size([8, 3, 224, 224])\n",
      "torch.Size([8, 3])\n",
      "torch.Size([8, 3, 224, 224])\n",
      "torch.Size([8, 3, 224, 224])\n",
      "torch.Size([8, 3])\n",
      "torch.Size([8, 3, 224, 224])\n",
      "torch.Size([8, 3, 224, 224])\n",
      "torch.Size([8, 3])\n",
      "torch.Size([8, 3, 224, 224])\n",
      "torch.Size([8, 3, 224, 224])\n",
      "torch.Size([8, 3])\n",
      "torch.Size([8, 3, 224, 224])\n",
      "torch.Size([8, 3, 224, 224])\n",
      "torch.Size([8, 3])\n",
      "torch.Size([8, 3, 224, 224])\n",
      "torch.Size([8, 3, 224, 224])\n",
      "torch.Size([8, 3])\n",
      "torch.Size([8, 3, 224, 224])\n",
      "torch.Size([8, 3, 224, 224])\n",
      "torch.Size([8, 3])\n",
      "torch.Size([8, 3, 224, 224])\n",
      "torch.Size([8, 3, 224, 224])\n",
      "torch.Size([8, 3])\n",
      "torch.Size([8, 3, 224, 224])\n",
      "torch.Size([8, 3, 224, 224])\n",
      "torch.Size([8, 3])\n",
      "torch.Size([8, 3, 224, 224])\n",
      "torch.Size([8, 3, 224, 224])\n",
      "torch.Size([8, 3])\n",
      "torch.Size([8, 3, 224, 224])\n",
      "torch.Size([8, 3, 224, 224])\n",
      "torch.Size([8, 3])\n",
      "torch.Size([8, 3, 224, 224])\n",
      "torch.Size([8, 3, 224, 224])\n",
      "torch.Size([8, 3])\n",
      "torch.Size([3, 3, 224, 224])\n",
      "torch.Size([3, 3, 224, 224])\n",
      "torch.Size([3, 3])\n"
     ]
    },
    {
     "ename": "NameError",
     "evalue": "name 'device' is not defined",
     "output_type": "error",
     "traceback": [
      "\u001B[0;31m---------------------------------------------------------------------------\u001B[0m",
      "\u001B[0;31mNameError\u001B[0m                                 Traceback (most recent call last)",
      "Cell \u001B[0;32mIn[13], line 37\u001B[0m\n\u001B[1;32m     35\u001B[0m test_loss \u001B[38;5;241m=\u001B[39m []\n\u001B[1;32m     36\u001B[0m \u001B[38;5;28;01mfor\u001B[39;00m inputs, targets \u001B[38;5;129;01min\u001B[39;00m test_loader:\n\u001B[0;32m---> 37\u001B[0m   inputs, targets \u001B[38;5;241m=\u001B[39m inputs\u001B[38;5;241m.\u001B[39mto(\u001B[43mdevice\u001B[49m), targets\u001B[38;5;241m.\u001B[39mto(device)\n\u001B[1;32m     38\u001B[0m   \u001B[38;5;66;03m#inputs = inputs.view(-1, 224,224)\u001B[39;00m\n\u001B[1;32m     39\u001B[0m   outputs \u001B[38;5;241m=\u001B[39m model\u001B[38;5;241m.\u001B[39mforward(inputs)\n",
      "\u001B[0;31mNameError\u001B[0m: name 'device' is not defined"
     ]
    }
   ],
   "source": [
    "n_epochs = 10\n",
    "\n",
    "# Stuff to store\n",
    "train_losses = np.zeros(n_epochs)\n",
    "test_losses = np.zeros(n_epochs)\n",
    "\n",
    "for it in range(n_epochs):\n",
    "  train_loss = []\n",
    "  for inputs, targets in train_loader:\n",
    "    # move data to GPU\n",
    "\n",
    "\n",
    "    print(inputs.shape)\n",
    "    # reshape the input\n",
    "    #inputs = inputs.view(-1, 224,224)\n",
    "    print(inputs.shape)\n",
    "\n",
    "    # zero the parameter gradients\n",
    "    optimizer.zero_grad()\n",
    "\n",
    "    # Forward pass\n",
    "    outputs = model.forward(inputs)\n",
    "    print(outputs.shape)\n",
    "    loss = criterion(outputs, targets)\n",
    "\n",
    "    # Backward and optimize\n",
    "    loss.backward()\n",
    "    optimizer.step()\n",
    "\n",
    "    train_loss.append(loss.item())\n",
    "\n",
    "  # Get train loss and test loss\n",
    "  train_loss = np.mean(train_loss) # a little misleading\n",
    "\n",
    "  test_loss = []\n",
    "  for inputs, targets in test_loader:\n",
    "    #inputs = inputs.view(-1, 224,224)\n",
    "    outputs = model.forward(inputs)\n",
    "    loss = criterion(outputs, targets)\n",
    "    test_loss.append(loss.item())\n",
    "  test_loss = np.mean(test_loss)\n",
    "\n",
    "  # Save losses\n",
    "  train_losses[it] = train_loss\n",
    "  test_losses[it] = test_loss\n",
    "\n",
    "  print(f'Epoch {it+1}/{n_epochs}, Train Loss: {train_loss:.4f}, Test Loss: {test_loss:.4f}')"
   ],
   "metadata": {
    "collapsed": false,
    "ExecuteTime": {
     "end_time": "2024-02-25T07:45:37.801993Z",
     "start_time": "2024-02-25T07:45:07.898568Z"
    }
   }
  },
  {
   "cell_type": "code",
   "execution_count": null,
   "outputs": [],
   "source": [],
   "metadata": {
    "collapsed": false
   }
  }
 ],
 "metadata": {
  "kernelspec": {
   "display_name": "Python 3",
   "language": "python",
   "name": "python3"
  },
  "language_info": {
   "codemirror_mode": {
    "name": "ipython",
    "version": 2
   },
   "file_extension": ".py",
   "mimetype": "text/x-python",
   "name": "python",
   "nbconvert_exporter": "python",
   "pygments_lexer": "ipython2",
   "version": "2.7.6"
  }
 },
 "nbformat": 4,
 "nbformat_minor": 0
}
