{
 "cells": [
  {
   "cell_type": "code",
   "execution_count": 1,
   "metadata": {
    "collapsed": true,
    "ExecuteTime": {
     "end_time": "2024-02-25T19:39:29.403366Z",
     "start_time": "2024-02-25T19:39:28.038Z"
    }
   },
   "outputs": [
    {
     "name": "stderr",
     "output_type": "stream",
     "text": [
      "/Users/kevywilly/Projects/felix-ai/venv/lib/python3.9/site-packages/urllib3/__init__.py:35: NotOpenSSLWarning: urllib3 v2 only supports OpenSSL 1.1.1+, currently the 'ssl' module is compiled with 'LibreSSL 2.8.3'. See: https://github.com/urllib3/urllib3/issues/3020\n",
      "  warnings.warn(\n"
     ]
    },
    {
     "name": "stdout",
     "output_type": "stream",
     "text": [
      "********************************\n",
      "*\tRobot = felixMac\n",
      "********************************\n",
      "\n",
      "****************************************\n",
      "*\tLoading App Settings\n",
      "****************************************\n",
      "\n"
     ]
    }
   ],
   "source": [
    "\n",
    "import os\n",
    "\n",
    "import cv2\n",
    "import matplotlib.pyplot as plt\n",
    "import numpy as np\n",
    "import torch\n",
    "import torch.nn as nn\n",
    "import torchvision\n",
    "from PIL import Image\n",
    "\n",
    "from settings import settings"
   ]
  },
  {
   "cell_type": "code",
   "execution_count": 2,
   "outputs": [],
   "source": [
    "mean = 255.0 * np.array([0.485, 0.456, 0.406])\n",
    "stdev = 255.0 * np.array([0.229, 0.224, 0.225])\n",
    "normalize = torchvision.transforms.Normalize(mean, stdev)"
   ],
   "metadata": {
    "collapsed": false,
    "ExecuteTime": {
     "end_time": "2024-02-25T19:39:29.406083Z",
     "start_time": "2024-02-25T19:39:29.404098Z"
    }
   }
  },
  {
   "cell_type": "code",
   "execution_count": 3,
   "outputs": [],
   "source": [
    "model = nn.Sequential(\n",
    "    nn.Conv2d(in_channels=3, out_channels=32, kernel_size=11, stride=2),\n",
    "    nn.Conv2d(in_channels=32, out_channels=64, kernel_size=11, stride=2),\n",
    "    #nn.Conv2d(in_channels=64, out_channels=128, kernel_size=3, stride=2),\n",
    "    nn.Conv2d(in_channels=64, out_channels=3, kernel_size=3, stride=1, padding=1)\n",
    ")\n"
   ],
   "metadata": {
    "collapsed": false,
    "ExecuteTime": {
     "end_time": "2024-02-25T19:39:29.410321Z",
     "start_time": "2024-02-25T19:39:29.407122Z"
    }
   }
  },
  {
   "cell_type": "code",
   "execution_count": 4,
   "outputs": [],
   "source": [
    "def preprocess(image):\n",
    "    image = cv2.resize(image, (224, 168), cv2.INTER_LINEAR)\n",
    "    image = image[84:168, 0:224]\n",
    "    image = image.transpose((2, 0, 1))\n",
    "    t = torch.from_numpy(image.astype(np.float32))\n",
    "    t = normalize(t)\n",
    "    return t"
   ],
   "metadata": {
    "collapsed": false,
    "ExecuteTime": {
     "end_time": "2024-02-25T19:39:29.412959Z",
     "start_time": "2024-02-25T19:39:29.411319Z"
    }
   }
  },
  {
   "cell_type": "code",
   "execution_count": 5,
   "outputs": [],
   "source": [
    "def load_image(path):\n",
    "    return np.array(Image.open(path))\n"
   ],
   "metadata": {
    "collapsed": false,
    "ExecuteTime": {
     "end_time": "2024-02-25T19:39:29.416051Z",
     "start_time": "2024-02-25T19:39:29.414286Z"
    }
   }
  },
  {
   "cell_type": "code",
   "execution_count": 6,
   "outputs": [],
   "source": [
    "def get_output(input):\n",
    "    output = model.forward(input)\n",
    "    img = output.detach().numpy()\n",
    "\n",
    "    img = img.transpose((1, 2, 0))\n",
    "\n",
    "    return img\n"
   ],
   "metadata": {
    "collapsed": false,
    "ExecuteTime": {
     "end_time": "2024-02-25T19:39:29.418621Z",
     "start_time": "2024-02-25T19:39:29.416852Z"
    }
   }
  },
  {
   "cell_type": "code",
   "execution_count": 7,
   "outputs": [],
   "source": [
    "def process_path(path):\n",
    "    image = load_image(path)\n",
    "    print(image.shape)\n",
    "    plt.imshow(image)\n",
    "    X = preprocess(image)\n",
    "    out = get_output(X)\n",
    "    plt.imshow(out)\n"
   ],
   "metadata": {
    "collapsed": false,
    "ExecuteTime": {
     "end_time": "2024-02-25T19:39:29.421455Z",
     "start_time": "2024-02-25T19:39:29.418976Z"
    }
   }
  },
  {
   "cell_type": "code",
   "execution_count": 8,
   "outputs": [
    {
     "name": "stderr",
     "output_type": "stream",
     "text": [
      "Clipping input data to the valid range for imshow with RGB data ([0..1] for floats or [0..255] for integers).\n"
     ]
    },
    {
     "name": "stdout",
     "output_type": "stream",
     "text": [
      "(1232, 1640, 3)\n"
     ]
    },
    {
     "data": {
      "text/plain": "<Figure size 640x480 with 1 Axes>",
      "image/png": "[encoded data removed]"
     },
     "metadata": {},
     "output_type": "display_data"
    }
   ],
   "source": [
    "\n",
    "process_path(os.path.join(settings.TRAINING.data_root, \"training/ternary/forward/1707973416-3244193.jpg\"))\n",
    "\n"
   ],
   "metadata": {
    "collapsed": false,
    "ExecuteTime": {
     "end_time": "2024-02-25T19:39:29.589830Z",
     "start_time": "2024-02-25T19:39:29.422075Z"
    }
   }
  },
  {
   "cell_type": "code",
   "execution_count": 9,
   "outputs": [
    {
     "name": "stderr",
     "output_type": "stream",
     "text": [
      "Clipping input data to the valid range for imshow with RGB data ([0..1] for floats or [0..255] for integers).\n"
     ]
    },
    {
     "name": "stdout",
     "output_type": "stream",
     "text": [
      "(1232, 1640, 3)\n"
     ]
    },
    {
     "data": {
      "text/plain": "<Figure size 640x480 with 1 Axes>",
      "image/png": "[encoded data removed]"
     },
     "metadata": {},
     "output_type": "display_data"
    }
   ],
   "source": [
    "process_path(os.path.join(settings.TRAINING.data_root, \"training/ternary/left/1707973411-826685.jpg\"))"
   ],
   "metadata": {
    "collapsed": false,
    "ExecuteTime": {
     "end_time": "2024-02-25T19:39:29.770179Z",
     "start_time": "2024-02-25T19:39:29.591053Z"
    }
   }
  },
  {
   "cell_type": "code",
   "execution_count": 10,
   "outputs": [
    {
     "data": {
      "text/plain": "'\\nconvoluted = []\\nfor filename in os.listdir(os.path.join(settings.TRAINING.data_root, \"training/ternary/left\")):\\n    path = os.path.join(settings.TRAINING.data_root, \"training/ternary/left\", filename)\\n    out_path = os.path.join(settings.TRAINING.data_root, \"training/out\", filename)\\n    image = load_image(path)\\n    X = preprocess(image)\\n    img = get_output(X)\\n    print(out_path)\\n    cv2.imwrite(out_path, img)\\n'"
     },
     "execution_count": 10,
     "metadata": {},
     "output_type": "execute_result"
    }
   ],
   "source": [
    "\"\"\"\n",
    "convoluted = []\n",
    "for filename in os.listdir(os.path.join(settings.TRAINING.data_root, \"training/ternary/left\")):\n",
    "    path = os.path.join(settings.TRAINING.data_root, \"training/ternary/left\", filename)\n",
    "    out_path = os.path.join(settings.TRAINING.data_root, \"training/out\", filename)\n",
    "    image = load_image(path)\n",
    "    X = preprocess(image)\n",
    "    img = get_output(X)\n",
    "    print(out_path)\n",
    "    cv2.imwrite(out_path, img)\n",
    "\"\"\""
   ],
   "metadata": {
    "collapsed": false,
    "ExecuteTime": {
     "end_time": "2024-02-25T19:39:29.773597Z",
     "start_time": "2024-02-25T19:39:29.769647Z"
    }
   }
  },
  {
   "cell_type": "code",
   "execution_count": 10,
   "outputs": [],
   "source": [],
   "metadata": {
    "collapsed": false,
    "ExecuteTime": {
     "end_time": "2024-02-25T19:39:29.776991Z",
     "start_time": "2024-02-25T19:39:29.774154Z"
    }
   }
  }
 ],
 "metadata": {
  "kernelspec": {
   "display_name": "Python 3",
   "language": "python",
   "name": "python3"
  },
  "language_info": {
   "codemirror_mode": {
    "name": "ipython",
    "version": 2
   },
   "file_extension": ".py",
   "mimetype": "text/x-python",
   "name": "python",
   "nbconvert_exporter": "python",
   "pygments_lexer": "ipython2",
   "version": "2.7.6"
  }
 },
 "nbformat": 4,
 "nbformat_minor": 0
}
