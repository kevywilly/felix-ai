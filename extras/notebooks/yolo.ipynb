{
 "cells": [
  {
   "cell_type": "code",
   "execution_count": 3,
   "outputs": [
    {
     "name": "stderr",
     "output_type": "stream",
     "text": [
      "Using cache found in /Users/kevywilly/.cache/torch/hub/ultralytics_yolov5_master\n",
      "YOLOv5 🚀 2024-2-26 Python-3.9.6 torch-2.2.0 CPU\n",
      "\n",
      "Fusing layers... \n",
      "YOLOv5s summary: 213 layers, 7225885 parameters, 0 gradients, 16.4 GFLOPs\n",
      "Adding AutoShape... \n"
     ]
    },
    {
     "data": {
      "text/plain": "AutoShape(\n  (model): DetectMultiBackend(\n    (model): DetectionModel(\n      (model): Sequential(\n        (0): Conv(\n          (conv): Conv2d(3, 32, kernel_size=(6, 6), stride=(2, 2), padding=(2, 2))\n          (act): SiLU(inplace=True)\n        )\n        (1): Conv(\n          (conv): Conv2d(32, 64, kernel_size=(3, 3), stride=(2, 2), padding=(1, 1))\n          (act): SiLU(inplace=True)\n        )\n        (2): C3(\n          (cv1): Conv(\n            (conv): Conv2d(64, 32, kernel_size=(1, 1), stride=(1, 1))\n            (act): SiLU(inplace=True)\n          )\n          (cv2): Conv(\n            (conv): Conv2d(64, 32, kernel_size=(1, 1), stride=(1, 1))\n            (act): SiLU(inplace=True)\n          )\n          (cv3): Conv(\n            (conv): Conv2d(64, 64, kernel_size=(1, 1), stride=(1, 1))\n            (act): SiLU(inplace=True)\n          )\n          (m): Sequential(\n            (0): Bottleneck(\n              (cv1): Conv(\n                (conv): Conv2d(32, 32, kernel_size=(1, 1), stride=(1, 1))\n                (act): SiLU(inplace=True)\n              )\n              (cv2): Conv(\n                (conv): Conv2d(32, 32, kernel_size=(3, 3), stride=(1, 1), padding=(1, 1))\n                (act): SiLU(inplace=True)\n              )\n            )\n          )\n        )\n        (3): Conv(\n          (conv): Conv2d(64, 128, kernel_size=(3, 3), stride=(2, 2), padding=(1, 1))\n          (act): SiLU(inplace=True)\n        )\n        (4): C3(\n          (cv1): Conv(\n            (conv): Conv2d(128, 64, kernel_size=(1, 1), stride=(1, 1))\n            (act): SiLU(inplace=True)\n          )\n          (cv2): Conv(\n            (conv): Conv2d(128, 64, kernel_size=(1, 1), stride=(1, 1))\n            (act): SiLU(inplace=True)\n          )\n          (cv3): Conv(\n            (conv): Conv2d(128, 128, kernel_size=(1, 1), stride=(1, 1))\n            (act): SiLU(inplace=True)\n          )\n          (m): Sequential(\n            (0): Bottleneck(\n              (cv1): Conv(\n                (conv): Conv2d(64, 64, kernel_size=(1, 1), stride=(1, 1))\n                (act): SiLU(inplace=True)\n              )\n              (cv2): Conv(\n                (conv): Conv2d(64, 64, kernel_size=(3, 3), stride=(1, 1), padding=(1, 1))\n                (act): SiLU(inplace=True)\n              )\n            )\n            (1): Bottleneck(\n              (cv1): Conv(\n                (conv): Conv2d(64, 64, kernel_size=(1, 1), stride=(1, 1))\n                (act): SiLU(inplace=True)\n              )\n              (cv2): Conv(\n                (conv): Conv2d(64, 64, kernel_size=(3, 3), stride=(1, 1), padding=(1, 1))\n                (act): SiLU(inplace=True)\n              )\n            )\n          )\n        )\n        (5): Conv(\n          (conv): Conv2d(128, 256, kernel_size=(3, 3), stride=(2, 2), padding=(1, 1))\n          (act): SiLU(inplace=True)\n        )\n        (6): C3(\n          (cv1): Conv(\n            (conv): Conv2d(256, 128, kernel_size=(1, 1), stride=(1, 1))\n            (act): SiLU(inplace=True)\n          )\n          (cv2): Conv(\n            (conv): Conv2d(256, 128, kernel_size=(1, 1), stride=(1, 1))\n            (act): SiLU(inplace=True)\n          )\n          (cv3): Conv(\n            (conv): Conv2d(256, 256, kernel_size=(1, 1), stride=(1, 1))\n            (act): SiLU(inplace=True)\n          )\n          (m): Sequential(\n            (0): Bottleneck(\n              (cv1): Conv(\n                (conv): Conv2d(128, 128, kernel_size=(1, 1), stride=(1, 1))\n                (act): SiLU(inplace=True)\n              )\n              (cv2): Conv(\n                (conv): Conv2d(128, 128, kernel_size=(3, 3), stride=(1, 1), padding=(1, 1))\n                (act): SiLU(inplace=True)\n              )\n            )\n            (1): Bottleneck(\n              (cv1): Conv(\n                (conv): Conv2d(128, 128, kernel_size=(1, 1), stride=(1, 1))\n                (act): SiLU(inplace=True)\n              )\n              (cv2): Conv(\n                (conv): Conv2d(128, 128, kernel_size=(3, 3), stride=(1, 1), padding=(1, 1))\n                (act): SiLU(inplace=True)\n              )\n            )\n            (2): Bottleneck(\n              (cv1): Conv(\n                (conv): Conv2d(128, 128, kernel_size=(1, 1), stride=(1, 1))\n                (act): SiLU(inplace=True)\n              )\n              (cv2): Conv(\n                (conv): Conv2d(128, 128, kernel_size=(3, 3), stride=(1, 1), padding=(1, 1))\n                (act): SiLU(inplace=True)\n              )\n            )\n          )\n        )\n        (7): Conv(\n          (conv): Conv2d(256, 512, kernel_size=(3, 3), stride=(2, 2), padding=(1, 1))\n          (act): SiLU(inplace=True)\n        )\n        (8): C3(\n          (cv1): Conv(\n            (conv): Conv2d(512, 256, kernel_size=(1, 1), stride=(1, 1))\n            (act): SiLU(inplace=True)\n          )\n          (cv2): Conv(\n            (conv): Conv2d(512, 256, kernel_size=(1, 1), stride=(1, 1))\n            (act): SiLU(inplace=True)\n          )\n          (cv3): Conv(\n            (conv): Conv2d(512, 512, kernel_size=(1, 1), stride=(1, 1))\n            (act): SiLU(inplace=True)\n          )\n          (m): Sequential(\n            (0): Bottleneck(\n              (cv1): Conv(\n                (conv): Conv2d(256, 256, kernel_size=(1, 1), stride=(1, 1))\n                (act): SiLU(inplace=True)\n              )\n              (cv2): Conv(\n                (conv): Conv2d(256, 256, kernel_size=(3, 3), stride=(1, 1), padding=(1, 1))\n                (act): SiLU(inplace=True)\n              )\n            )\n          )\n        )\n        (9): SPPF(\n          (cv1): Conv(\n            (conv): Conv2d(512, 256, kernel_size=(1, 1), stride=(1, 1))\n            (act): SiLU(inplace=True)\n          )\n          (cv2): Conv(\n            (conv): Conv2d(1024, 512, kernel_size=(1, 1), stride=(1, 1))\n            (act): SiLU(inplace=True)\n          )\n          (m): MaxPool2d(kernel_size=5, stride=1, padding=2, dilation=1, ceil_mode=False)\n        )\n        (10): Conv(\n          (conv): Conv2d(512, 256, kernel_size=(1, 1), stride=(1, 1))\n          (act): SiLU(inplace=True)\n        )\n        (11): Upsample(scale_factor=2.0, mode='nearest')\n        (12): Concat()\n        (13): C3(\n          (cv1): Conv(\n            (conv): Conv2d(512, 128, kernel_size=(1, 1), stride=(1, 1))\n            (act): SiLU(inplace=True)\n          )\n          (cv2): Conv(\n            (conv): Conv2d(512, 128, kernel_size=(1, 1), stride=(1, 1))\n            (act): SiLU(inplace=True)\n          )\n          (cv3): Conv(\n            (conv): Conv2d(256, 256, kernel_size=(1, 1), stride=(1, 1))\n            (act): SiLU(inplace=True)\n          )\n          (m): Sequential(\n            (0): Bottleneck(\n              (cv1): Conv(\n                (conv): Conv2d(128, 128, kernel_size=(1, 1), stride=(1, 1))\n                (act): SiLU(inplace=True)\n              )\n              (cv2): Conv(\n                (conv): Conv2d(128, 128, kernel_size=(3, 3), stride=(1, 1), padding=(1, 1))\n                (act): SiLU(inplace=True)\n              )\n            )\n          )\n        )\n        (14): Conv(\n          (conv): Conv2d(256, 128, kernel_size=(1, 1), stride=(1, 1))\n          (act): SiLU(inplace=True)\n        )\n        (15): Upsample(scale_factor=2.0, mode='nearest')\n        (16): Concat()\n        (17): C3(\n          (cv1): Conv(\n            (conv): Conv2d(256, 64, kernel_size=(1, 1), stride=(1, 1))\n            (act): SiLU(inplace=True)\n          )\n          (cv2): Conv(\n            (conv): Conv2d(256, 64, kernel_size=(1, 1), stride=(1, 1))\n            (act): SiLU(inplace=True)\n          )\n          (cv3): Conv(\n            (conv): Conv2d(128, 128, kernel_size=(1, 1), stride=(1, 1))\n            (act): SiLU(inplace=True)\n          )\n          (m): Sequential(\n            (0): Bottleneck(\n              (cv1): Conv(\n                (conv): Conv2d(64, 64, kernel_size=(1, 1), stride=(1, 1))\n                (act): SiLU(inplace=True)\n              )\n              (cv2): Conv(\n                (conv): Conv2d(64, 64, kernel_size=(3, 3), stride=(1, 1), padding=(1, 1))\n                (act): SiLU(inplace=True)\n              )\n            )\n          )\n        )\n        (18): Conv(\n          (conv): Conv2d(128, 128, kernel_size=(3, 3), stride=(2, 2), padding=(1, 1))\n          (act): SiLU(inplace=True)\n        )\n        (19): Concat()\n        (20): C3(\n          (cv1): Conv(\n            (conv): Conv2d(256, 128, kernel_size=(1, 1), stride=(1, 1))\n            (act): SiLU(inplace=True)\n          )\n          (cv2): Conv(\n            (conv): Conv2d(256, 128, kernel_size=(1, 1), stride=(1, 1))\n            (act): SiLU(inplace=True)\n          )\n          (cv3): Conv(\n            (conv): Conv2d(256, 256, kernel_size=(1, 1), stride=(1, 1))\n            (act): SiLU(inplace=True)\n          )\n          (m): Sequential(\n            (0): Bottleneck(\n              (cv1): Conv(\n                (conv): Conv2d(128, 128, kernel_size=(1, 1), stride=(1, 1))\n                (act): SiLU(inplace=True)\n              )\n              (cv2): Conv(\n                (conv): Conv2d(128, 128, kernel_size=(3, 3), stride=(1, 1), padding=(1, 1))\n                (act): SiLU(inplace=True)\n              )\n            )\n          )\n        )\n        (21): Conv(\n          (conv): Conv2d(256, 256, kernel_size=(3, 3), stride=(2, 2), padding=(1, 1))\n          (act): SiLU(inplace=True)\n        )\n        (22): Concat()\n        (23): C3(\n          (cv1): Conv(\n            (conv): Conv2d(512, 256, kernel_size=(1, 1), stride=(1, 1))\n            (act): SiLU(inplace=True)\n          )\n          (cv2): Conv(\n            (conv): Conv2d(512, 256, kernel_size=(1, 1), stride=(1, 1))\n            (act): SiLU(inplace=True)\n          )\n          (cv3): Conv(\n            (conv): Conv2d(512, 512, kernel_size=(1, 1), stride=(1, 1))\n            (act): SiLU(inplace=True)\n          )\n          (m): Sequential(\n            (0): Bottleneck(\n              (cv1): Conv(\n                (conv): Conv2d(256, 256, kernel_size=(1, 1), stride=(1, 1))\n                (act): SiLU(inplace=True)\n              )\n              (cv2): Conv(\n                (conv): Conv2d(256, 256, kernel_size=(3, 3), stride=(1, 1), padding=(1, 1))\n                (act): SiLU(inplace=True)\n              )\n            )\n          )\n        )\n        (24): Detect(\n          (m): ModuleList(\n            (0): Conv2d(128, 255, kernel_size=(1, 1), stride=(1, 1))\n            (1): Conv2d(256, 255, kernel_size=(1, 1), stride=(1, 1))\n            (2): Conv2d(512, 255, kernel_size=(1, 1), stride=(1, 1))\n          )\n        )\n      )\n    )\n  )\n)"
     },
     "execution_count": 3,
     "metadata": {},
     "output_type": "execute_result"
    }
   ],
   "source": [
    "import torch\n",
    "\n",
    "# Model\n",
    "model = torch.hub.load('ultralytics/yolov5', 'yolov5s', pretrained=True)\n",
    "\n",
    "\n",
    "model.eval()"
   ],
   "metadata": {
    "collapsed": false,
    "ExecuteTime": {
     "end_time": "2024-02-27T06:23:44.018886Z",
     "start_time": "2024-02-27T06:23:43.515477Z"
    }
   }
  },
  {
   "cell_type": "code",
   "execution_count": 2,
   "outputs": [
    {
     "name": "stderr",
     "output_type": "stream",
     "text": [
      "image 1/1: 1232x1640 1 person, 1 chair, 1 couch\n",
      "Speed: 31.9ms pre-process, 137.9ms inference, 0.6ms NMS per image at shape (1, 3, 480, 640)\n",
      "Saved 1 image to \u001B[1mruns/detect/exp2\u001B[0m\n"
     ]
    },
    {
     "data": {
      "text/plain": "          xmin        ymin         xmax         ymax  confidence  class  \\\n0   758.979675    0.000000  1327.009521  1023.406494    0.817944      0   \n1  1290.906860  278.182892  1638.006470   822.169983    0.807668     56   \n2   781.967224  620.965759   876.188782   796.661377    0.358465     57   \n\n     name  \n0  person  \n1   chair  \n2   couch  ",
      "text/html": "<div>\n<style scoped>\n    .dataframe tbody tr th:only-of-type {\n        vertical-align: middle;\n    }\n\n    .dataframe tbody tr th {\n        vertical-align: top;\n    }\n\n    .dataframe thead th {\n        text-align: right;\n    }\n</style>\n<table border=\"1\" class=\"dataframe\">\n  <thead>\n    <tr style=\"text-align: right;\">\n      <th></th>\n      <th>xmin</th>\n      <th>ymin</th>\n      <th>xmax</th>\n      <th>ymax</th>\n      <th>confidence</th>\n      <th>class</th>\n      <th>name</th>\n    </tr>\n  </thead>\n  <tbody>\n    <tr>\n      <th>0</th>\n      <td>758.979675</td>\n      <td>0.000000</td>\n      <td>1327.009521</td>\n      <td>1023.406494</td>\n      <td>0.817944</td>\n      <td>0</td>\n      <td>person</td>\n    </tr>\n    <tr>\n      <th>1</th>\n      <td>1290.906860</td>\n      <td>278.182892</td>\n      <td>1638.006470</td>\n      <td>822.169983</td>\n      <td>0.807668</td>\n      <td>56</td>\n      <td>chair</td>\n    </tr>\n    <tr>\n      <th>2</th>\n      <td>781.967224</td>\n      <td>620.965759</td>\n      <td>876.188782</td>\n      <td>796.661377</td>\n      <td>0.358465</td>\n      <td>57</td>\n      <td>couch</td>\n    </tr>\n  </tbody>\n</table>\n</div>"
     },
     "execution_count": 2,
     "metadata": {},
     "output_type": "execute_result"
    }
   ],
   "source": [
    "# Images\n",
    "imgs = ['/Users/kevywilly/felix-ai/data/training/ternary/left/1707974084-732589.jpg']  # batch of images\n",
    "\n",
    "# Inference\n",
    "results = model(imgs)\n",
    "\n",
    "# Results\n",
    "results.print()\n",
    "results.save()  # or .show()\n",
    "\n",
    "results.xyxy[0]  # img1 predictions (tensor)\n",
    "results.pandas().xyxy[0]  # img1 predictions (pandas)\n",
    "#      xmin    ymin    xmax   ymax  confidence  class    name\n",
    "# 0  749.50   43.50  1148.0  704.5    0.874023      0  person\n",
    "# 1  433.50  433.50   517.5  714.5    0.687988     27     tie\n",
    "# 2  114.75  195.75  1095.0  708.0    0.624512      0  person\n",
    "# 3  986.00  304.00  1028.0  420.0    0.286865     27     tie"
   ],
   "metadata": {
    "collapsed": false,
    "ExecuteTime": {
     "end_time": "2024-02-27T06:11:47.467734Z",
     "start_time": "2024-02-27T06:11:47.254106Z"
    }
   }
  },
  {
   "cell_type": "code",
   "execution_count": 7,
   "outputs": [
    {
     "ename": "TypeError",
     "evalue": "'Detections' object is not subscriptable",
     "output_type": "error",
     "traceback": [
      "\u001B[0;31m---------------------------------------------------------------------------\u001B[0m",
      "\u001B[0;31mTypeError\u001B[0m                                 Traceback (most recent call last)",
      "Cell \u001B[0;32mIn[7], line 1\u001B[0m\n\u001B[0;32m----> 1\u001B[0m \u001B[43mresults\u001B[49m\u001B[38;5;241;43m.\u001B[39;49m\u001B[43mpandas\u001B[49m\u001B[43m(\u001B[49m\u001B[43m)\u001B[49m\u001B[43m[\u001B[49m\u001B[38;5;241;43m0\u001B[39;49m\u001B[43m]\u001B[49m\n",
      "\u001B[0;31mTypeError\u001B[0m: 'Detections' object is not subscriptable"
     ]
    }
   ],
   "source": [
    "results.pandas()"
   ],
   "metadata": {
    "collapsed": false,
    "ExecuteTime": {
     "end_time": "2024-02-27T06:26:03.871176Z",
     "start_time": "2024-02-27T06:26:03.655990Z"
    }
   }
  },
  {
   "cell_type": "code",
   "execution_count": null,
   "outputs": [],
   "source": [],
   "metadata": {
    "collapsed": false
   }
  }
 ],
 "metadata": {
  "kernelspec": {
   "display_name": "Python 3",
   "language": "python",
   "name": "python3"
  },
  "language_info": {
   "codemirror_mode": {
    "name": "ipython",
    "version": 2
   },
   "file_extension": ".py",
   "mimetype": "text/x-python",
   "name": "python",
   "nbconvert_exporter": "python",
   "pygments_lexer": "ipython2",
   "version": "2.7.6"
  }
 },
 "nbformat": 4,
 "nbformat_minor": 0
}
